{
 "cells": [
  {
   "cell_type": "markdown",
   "metadata": {},
   "source": [
    "# MultivariateDiscretization.jl v0.1.0"
   ]
  },
  {
   "cell_type": "markdown",
   "metadata": {},
   "source": [
    "### Installing necessary packages"
   ]
  },
  {
   "cell_type": "code",
   "execution_count": null,
   "metadata": {},
   "outputs": [],
   "source": [
    "# Installation\n",
    "Pkg.add(\"MultivariateDiscretization\");"
   ]
  },
  {
   "cell_type": "code",
   "execution_count": 11,
   "metadata": {},
   "outputs": [],
   "source": [
    "# Loading packages\n",
    "using MultivariateDiscretization\n",
    "using Pkg\n",
    "using DataFrames\n",
    "using Distributions\n",
    "using StatsBase\n",
    "using Statistics\n",
    "using LinearAlgebra\n",
    "using MultivariateStats"
   ]
  },
  {
   "cell_type": "markdown",
   "metadata": {},
   "source": [
    "### Creating sample data"
   ]
  },
  {
   "cell_type": "code",
   "execution_count": 9,
   "metadata": {},
   "outputs": [
    {
     "data": {
      "text/plain": [
       "100"
      ]
     },
     "execution_count": 9,
     "metadata": {},
     "output_type": "execute_result"
    }
   ],
   "source": [
    "# number of dimensions\n",
    "dims=10\n",
    "# number of points\n",
    "points=100"
   ]
  },
  {
   "cell_type": "code",
   "execution_count": 28,
   "metadata": {},
   "outputs": [],
   "source": [
    "# generate test dataset\n",
    "A = rand(Float64, (dims,dims))\n",
    "Σ = A*A'\n",
    "μ = rand(dims)\n",
    "d1 = MvNormal(μ, 1/4*Σ)\n",
    "Testdata = rand(d1,points);"
   ]
  },
  {
   "cell_type": "markdown",
   "metadata": {},
   "source": [
    "## Discretization methods"
   ]
  },
  {
   "cell_type": "markdown",
   "metadata": {},
   "source": [
    "The input for all methods has to be an ```Array{Float64,N}```. Discretization is performed __*row-wise*__.<br/>\n",
    "The follwing algorithms are currently implemented(v0.1.0):\n",
    "* Greedy Interarction Perserving Discretization\n",
    "* Clustered Greedy Interarction Perserving Discretization\n",
    "* Correlation Preserving Discretization\n",
    "* clustered Correlation Preserving Discretization\n",
    "* Independent Bayesian Blocks\n",
    "* Independent Uniform Width with adapted number of bins\n",
    "\n",
    "The results will be return as DataFrame."
   ]
  },
  {
   "cell_type": "markdown",
   "metadata": {},
   "source": [
    "### (Clustered) Greedy Interarction Perserving Discretization"
   ]
  },
  {
   "cell_type": "markdown",
   "metadata": {},
   "source": [
    "```python\n",
    "greedy_IPD(M::Array{Float64},ndim::Int64,T::Int64,disc=:km,skip=[],limit=10)\n",
    "```\n",
    "* ```M```: Input data\n",
    "* ```ndim```: number of dimensions\n",
    "* ```T```: number of microbins\n",
    "* ```disc```: type of discretizer for microbins select ```:km``` for k-means or ```:uw``` for uniform width"
   ]
  },
  {
   "cell_type": "markdown",
   "metadata": {},
   "source": [
    "```python\n",
    "greedy_IPD_clustered(M::Array{Float64},ndim::Int64,T::Int64,c::Int64,disc=:km)\n",
    "```\n",
    "* ```M```: Input data\n",
    "* ```ndim```: number of dimensions\n",
    "* ```T```: number of microbins\n",
    "* ```c```: number of clusters\n",
    "* ```disc```: type of discretizer for microbins select ```:km``` for k-means or ```:uw``` for uniform width"
   ]
  },
  {
   "cell_type": "code",
   "execution_count": 27,
   "metadata": {},
   "outputs": [],
   "source": [
    "ipd = greedy_IPD(Testdata,dims,35)\n",
    "ipd_clustered = greedy_IPD_clustered(Testdata,dims,35,3);"
   ]
  },
  {
   "cell_type": "markdown",
   "metadata": {},
   "source": [
    "### (Clustered) Correlation Preserving Discretization"
   ]
  },
  {
   "cell_type": "markdown",
   "metadata": {},
   "source": [
    "```python\n",
    "CPD(M::Array{Float64}, ndim::Int64, npoints::Int64, k::Int64, d=:km, bintype=:manual, bins=Int(round(ndim)),processing=:none)\n",
    "```\n",
    "* ```M```: Input data\n",
    "* ```ndim```: number of dimensions\n",
    "* ```npoints```: number of datapoints\n",
    "* ```k```: number of principal components to be retained\n",
    "* ```d```: type of discretizer for microbins select ```:km``` for k-means or ```:uw``` for uniform width\n",
    "* ```bintype```: choose type of binning from ```Discretizers.jl```\n",
    "* ```bins```: select number of bins per principal component\n",
    "* ```processing```: select ```:none``` for standard or ```:cutpoints```to discretize on cutpoints"
   ]
  },
  {
   "attachments": {},
   "cell_type": "markdown",
   "metadata": {},
   "source": [
    "```python\n",
    "CPD_clustered(M::Array{Float64}, ndim::Int64, npoints::Int64, c::Int64, p::Float64, d=:km)\n",
    "```\n",
    "* ```M```: Input data\n",
    "* ```ndim```: number of dimensions\n",
    "* ```npoints```: number of datapoints\n",
    "* ```c```: number of clusters\n",
    "* ```p```: percentage of principle components to be retained\n",
    "* ```d```: type of discretizer for microbins select ```:km``` for k-means or ```:uw``` for uniform width"
   ]
  },
  {
   "cell_type": "code",
   "execution_count": 31,
   "metadata": {},
   "outputs": [],
   "source": [
    "cpd = CPD(Testdata,dims,points,3,:km,:manual,:10)\n",
    "cpd_clustered = CPD_clustered(Testdata,dims,points,3,float(3));"
   ]
  },
  {
   "cell_type": "markdown",
   "metadata": {},
   "source": [
    "### Independent Bayesian Blocks"
   ]
  },
  {
   "cell_type": "markdown",
   "metadata": {},
   "source": [
    "```\n",
    "BayesianBlocks(M::Array{Float64},ndim::Int64)\n",
    "```\n",
    "* ```M```: Input data\n",
    "* ```ndim```: number of dimensions"
   ]
  },
  {
   "cell_type": "code",
   "execution_count": 29,
   "metadata": {},
   "outputs": [],
   "source": [
    "bb = BayesianBlocks(Testdata,dims);"
   ]
  },
  {
   "cell_type": "markdown",
   "metadata": {},
   "source": [
    "### Independent Uniform Width"
   ]
  },
  {
   "cell_type": "markdown",
   "metadata": {},
   "source": [
    "```\n",
    "UW(M::Array{Float64},ndim::Int64,nbins::Int64)\n",
    "```\n",
    "* ```M```: Input data\n",
    "* ```ndim```: number of dimensions\n",
    "* ```nbins```: number of bins"
   ]
  },
  {
   "cell_type": "code",
   "execution_count": 34,
   "metadata": {},
   "outputs": [],
   "source": [
    "uw = MultivariateDiscretization.UW(Testdata,dims,3);"
   ]
  },
  {
   "cell_type": "markdown",
   "metadata": {},
   "source": [
    "## Calculating the Cumulative Jensen Shannon distance"
   ]
  },
  {
   "cell_type": "markdown",
   "metadata": {},
   "source": [
    "```\n",
    "CJS_empirical(F::Matrix,ndim::Int64,nsamples::Int64,nsteps::Int64)\n",
    "```\n",
    "* ```M```: Input data\n",
    "* ```ndim```: number of dimensions\n",
    "* ```nsamples```: number of datapoints\n",
    "* ```nsteps```: number of steps for numeric integration"
   ]
  },
  {
   "cell_type": "code",
   "execution_count": 37,
   "metadata": {},
   "outputs": [],
   "source": [
    "cjs_ipd = MultivariateDiscretization.CJS_empirical(Matrix(float.(ipd)),dims,points,200)\n",
    "cjs_cpd = MultivariateDiscretization.CJS_empirical(Matrix(float.(cpd)),dims,points,200)\n",
    "cjs_bb = MultivariateDiscretization.CJS_empirical(Matrix(float.(bb)),dims,points,200)\n",
    "cjs_uw = MultivariateDiscretization.CJS_empirical(Matrix(float.(uw)),dims,points,200)\n",
    "cjs_or = MultivariateDiscretization.CJS_empirical(Testdata,dims,points,200);"
   ]
  }
 ],
 "metadata": {
  "kernelspec": {
   "display_name": "Julia 1.5.2",
   "language": "julia",
   "name": "julia-1.5"
  },
  "language_info": {
   "file_extension": ".jl",
   "mimetype": "application/julia",
   "name": "julia",
   "version": "1.5.2"
  }
 },
 "nbformat": 4,
 "nbformat_minor": 2
}
